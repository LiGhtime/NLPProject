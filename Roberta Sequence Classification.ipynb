{
 "cells": [
  {
   "cell_type": "markdown",
   "metadata": {},
   "source": [
    "# RoBERTa Pretrained Sequence Classifier"
   ]
  },
  {
   "cell_type": "code",
   "execution_count": 1,
   "metadata": {
    "scrolled": true
   },
   "outputs": [
    {
     "name": "stdout",
     "output_type": "stream",
     "text": [
      "cuda\n"
     ]
    }
   ],
   "source": [
    "import numpy as np\n",
    "import pandas as pd\n",
    "import torch\n",
    "from IPython.display import clear_output\n",
    "from torch import nn, optim, cuda\n",
    "from torch.utils.data import Dataset, DataLoader\n",
    "from transformers import RobertaTokenizer, RobertaConfig, RobertaForMultipleChoice\n",
    "from transformers import RobertaForSequenceClassification, AdamW, get_scheduler\n",
    "from datetime import datetime\n",
    "import matplotlib.pyplot as plt\n",
    "device = torch.device('cuda' if cuda.is_available() else 'cpu')\n",
    "# device = 'cpu'\n",
    "print(device)"
   ]
  },
  {
   "cell_type": "code",
   "execution_count": 2,
   "metadata": {},
   "outputs": [],
   "source": [
    "class CopaDataset(Dataset):\n",
    "    def __init__(self, filename):\n",
    "        super().__init__()\n",
    "        self.tokenizer = RobertaTokenizer.from_pretrained('roberta-base')\n",
    "        \n",
    "        with open(filename, 'r', encoding='utf8') as file:\n",
    "            raw_data = pd.read_json(file, lines=True)\n",
    "        self.data = []\n",
    "        self.masks = []\n",
    "        self.labels = []\n",
    "            \n",
    "        prompts = []\n",
    "        choices = []\n",
    "        for i, row in raw_data.iterrows():\n",
    "            prompts.append(row['premise'])\n",
    "            prompts.append(row['premise'])\n",
    "            choices.append(row['choice1'])\n",
    "            choices.append(row['choice2'])\n",
    "            self.labels.append(row['label'])\n",
    "        \n",
    "        tokenized = self.tokenizer(prompts, choices, return_tensors='pt',\n",
    "                              padding=True, truncation=True)\n",
    "        \n",
    "        for i in range(int(len(tokenized['input_ids']) / 2)):\n",
    "            idx = 2 * i\n",
    "            self.data.append(torch.stack([tokenized['input_ids'][idx], \n",
    "                                          tokenized['input_ids'][idx + 1]]).to(device))\n",
    "            self.masks.append(torch.stack([tokenized['attention_mask'][idx], \n",
    "                                           tokenized['attention_mask'][idx + 1]]).to(device))\n",
    "        \n",
    "    def __len__(self):\n",
    "        return len(self.data)\n",
    "    \n",
    "    def shape(self):\n",
    "        return self.data\n",
    "    \n",
    "    def __getitem__(self, idx):\n",
    "        if torch.is_tensor(idx):\n",
    "            idx = idx.to_list()\n",
    "        return ([self.data[idx], \n",
    "                 self.masks[idx]]), torch.tensor(self.labels[idx], device=device)"
   ]
  },
  {
   "cell_type": "code",
   "execution_count": 3,
   "metadata": {},
   "outputs": [
    {
     "name": "stdout",
     "output_type": "stream",
     "text": [
      "Training data loaded (length 350)\n",
      "Dev data loaded (length 50)\n",
      "Test data loaded (length 100)\n"
     ]
    }
   ],
   "source": [
    "train_data = CopaDataset('data/train.jsonl')\n",
    "train_dataloader = DataLoader(train_data, batch_size=16, shuffle=True)\n",
    "print(f'Training data loaded (length {len(train_data)})')\n",
    "dev_data = CopaDataset('data/dev.jsonl')\n",
    "dev_dataloader = DataLoader(dev_data, batch_size=50, shuffle=True)\n",
    "print(f'Dev data loaded (length {len(dev_data)})')\n",
    "test_data = CopaDataset('data/test.jsonl')\n",
    "test_dataloader = DataLoader(test_data, batch_size=100, shuffle=True)\n",
    "print(f'Test data loaded (length {len(test_data)})')"
   ]
  },
  {
   "cell_type": "code",
   "execution_count": 4,
   "metadata": {},
   "outputs": [],
   "source": [
    "config = RobertaConfig.from_pretrained('roberta-base', num_labels=2)"
   ]
  },
  {
   "cell_type": "markdown",
   "metadata": {},
   "source": [
    "## Training"
   ]
  },
  {
   "cell_type": "code",
   "execution_count": 10,
   "metadata": {},
   "outputs": [
    {
     "name": "stdout",
     "output_type": "stream",
     "text": [
      "Training completed in 0:09:13.132641\n"
     ]
    }
   ],
   "source": [
    "# initialize model\n",
    "teacup = RobertaForMultipleChoice(config)\n",
    "teacup.to(device)\n",
    "torch.cuda.empty_cache()\n",
    "\n",
    "# 3) Now we train our model. \n",
    "start_time = datetime.now()\n",
    "epochs = 50\n",
    "report_per = 5\n",
    "\n",
    "# optimizer & LR decay scheduler\n",
    "optimizer = AdamW(teacup.parameters(), lr=3e-5)\n",
    "num_training_steps = epochs * len(train_dataloader)\n",
    "lr_scheduler = get_scheduler(\n",
    "    \"linear\",\n",
    "    optimizer=optimizer,\n",
    "    num_warmup_steps=0,\n",
    "    num_training_steps=num_training_steps\n",
    ")\n",
    "\n",
    "dev_acc = np.zeros(epochs // report_per)\n",
    "train_acc = np.zeros(epochs // report_per)\n",
    "\n",
    "print('Beginning training loop')\n",
    "for i in range(epochs):\n",
    "        \n",
    "#     if i % report_per == 0:\n",
    "#         print('### Epoch: ' + str(i+1) + ' ###')\n",
    "        \n",
    "    # train loop\n",
    "    teacup.train()\n",
    "    for batch in train_dataloader:\n",
    "        # get batch predictions\n",
    "        (X, mask), y = batch\n",
    "        out = teacup(input_ids=X, attention_mask=mask, labels=y)\n",
    "        \n",
    "        # backpropagate loss\n",
    "        out.loss.backward()\n",
    "\n",
    "        # update weights\n",
    "        optimizer.step()\n",
    "        lr_scheduler.step()\n",
    "        optimizer.zero_grad()\n",
    "        \n",
    "        # record train acc\n",
    "        if (i + 1) % report_per == 0:\n",
    "            train_acc[i // report_per] += float(torch.sum(torch.argmax(out.logits, dim=1) == y))\n",
    "            \n",
    "        del out\n",
    "        \n",
    "    del X\n",
    "    del mask\n",
    "    del y\n",
    "    \n",
    "    # validate\n",
    "    if (i + 1) % report_per == 0:\n",
    "        teacup.eval()\n",
    "        with torch.no_grad():\n",
    "            for batch in dev_dataloader:\n",
    "                (X, mask), y = batch\n",
    "                out = teacup(input_ids=X, attention_mask=mask, labels=y)\n",
    "                dev_acc[i // report_per] += float(torch.sum(torch.argmax(out.logits, dim=1) == y))\n",
    "                \n",
    "            dev_acc[i // report_per] /= len(dev_data)\n",
    "            train_acc[i // report_per] /= len(train_data)\n",
    "            \n",
    "        epoch_time = datetime.now() - start_time\n",
    "        print(f'Epoch {i + 1} complete in {str(epoch_time)};',\n",
    "              f'est. finish at {str(start_time + (epoch_time / (i + 1) * epochs))}')\n",
    "        print(f'Validation: {train_acc[i // report_per]} train | {dev_acc[i // report_per]} dev')\n",
    "        clear_output(wait=True)\n",
    "        \n",
    "end_time = datetime.now()\n",
    "print(f'Training completed in {str(end_time - start_time)}')"
   ]
  },
  {
   "cell_type": "markdown",
   "metadata": {},
   "source": [
    "## Results"
   ]
  },
  {
   "cell_type": "code",
   "execution_count": 6,
   "metadata": {},
   "outputs": [
    {
     "data": {
      "text/plain": [
       "array([0.66, 0.58, 0.54, 0.56, 0.54, 0.6 , 0.58, 0.58, 0.62, 0.62])"
      ]
     },
     "execution_count": 6,
     "metadata": {},
     "output_type": "execute_result"
    }
   ],
   "source": [
    "dev_acc"
   ]
  },
  {
   "cell_type": "code",
   "execution_count": 9,
   "metadata": {},
   "outputs": [
    {
     "data": {
      "image/png": "[encoded data removed]",
      "text/plain": [
       "<Figure size 1152x576 with 2 Axes>"
      ]
     },
     "metadata": {
      "needs_background": "light"
     },
     "output_type": "display_data"
    }
   ],
   "source": [
    "# BVT plot\n",
    "fig, ax = plt.subplots(figsize=(16, 8))\n",
    "ax2 = ax.twinx()\n",
    "ax.plot(train_acc, label='train', color='blue')\n",
    "ax2.plot(dev_acc, label='dev', color='red')\n",
    "\n",
    "ax.legend()\n",
    "ax2.legend()\n",
    "ax.set_ylabel('Train acc')\n",
    "ax2.set_ylabel('Dev acc')\n",
    "ax.set_xlabel('Training epochs')\n",
    "plt.show()"
   ]
  },
  {
   "cell_type": "markdown",
   "metadata": {},
   "source": [
    "## External code for seq. classification"
   ]
  },
  {
   "cell_type": "markdown",
   "metadata": {},
   "source": [
    "## Grid search/hyperparameter tuning"
   ]
  },
  {
   "cell_type": "code",
   "execution_count": null,
   "metadata": {},
   "outputs": [],
   "source": [
    "def train(epochs, report_per, lr, batch_size, shuffle, decay):\n",
    "    \n",
    "    # load data\n",
    "    train_data = CopaDataset('data/train.jsonl')\n",
    "    train_dataloader = DataLoader(train_data, batch_size=batch_size, shuffle=shuffle)\n",
    "    print(f'Training data loaded (length {len(train_data)})')\n",
    "    dev_data = CopaDataset('data/dev.jsonl')\n",
    "    dev_dataloader = DataLoader(dev_data, batch_size=100, shuffle=True)\n",
    "    print(f'Dev data loaded (length {len(dev_data)})')\n",
    "    test_data = CopaDataset('data/test.jsonl')\n",
    "    test_dataloader = DataLoader(test_data, batch_size=200, shuffle=True)\n",
    "    print(f'Test data loaded (length {len(test_data)})')\n",
    "    \n",
    "    # initialize model\n",
    "    teacup = RobertaForSequenceClassification(RobertaConfig.from_pretrained('roberta-base', \n",
    "                                                                            num_labels=2))\n",
    "    teacup.to(device)\n",
    "    torch.cuda.empty_cache()\n",
    "\n",
    "    # 3) Now we train our model. \n",
    "    start_time = datetime.now()\n",
    "\n",
    "    # optimizer & LR decay scheduler\n",
    "    optimizer = AdamW(teacup.parameters(), lr=lr)\n",
    "    num_training_steps = epochs * len(train_dataloader)\n",
    "    lr_scheduler = get_scheduler(\n",
    "        decay,\n",
    "        optimizer=optimizer,\n",
    "        num_warmup_steps=0,\n",
    "        num_training_steps=num_training_steps\n",
    "    )\n",
    "\n",
    "    dev_acc = np.zeros(epochs // report_per)\n",
    "    train_acc = np.zeros(epochs // report_per)\n",
    "\n",
    "    print('Beginning training loop')\n",
    "    for i in range(epochs):\n",
    "\n",
    "    #     if i % report_per == 0:\n",
    "    #         print('### Epoch: ' + str(i+1) + ' ###')\n",
    "\n",
    "        # train loop\n",
    "        teacup.train()\n",
    "        for batch in train_dataloader:\n",
    "            # get batch predictions\n",
    "            (X, mask), y = batch\n",
    "            out = teacup(input_ids=X, attention_mask=mask, labels=y)\n",
    "\n",
    "            # backpropagate loss\n",
    "            out.loss.backward()\n",
    "\n",
    "            # update weights\n",
    "            optimizer.step()\n",
    "            lr_scheduler.step()\n",
    "            optimizer.zero_grad()\n",
    "\n",
    "            # record train acc\n",
    "            if (i + 1) % report_per == 0:\n",
    "                train_acc[i // report_per] += float(torch.sum(torch.argmax(out.logits, dim=1) == y))\n",
    "\n",
    "            del out\n",
    "\n",
    "        del X\n",
    "        del mask\n",
    "        del y\n",
    "\n",
    "        # validate\n",
    "        if (i + 1) % report_per == 0:\n",
    "            teacup.eval()\n",
    "            with torch.no_grad():\n",
    "                for batch in dev_dataloader:\n",
    "                    (X, mask), y = batch\n",
    "                    out = teacup(input_ids=X, attention_mask=mask, labels=y)\n",
    "                    dev_acc[i // report_per] += float(torch.sum(torch.argmax(out.logits, dim=1) == y))\n",
    "\n",
    "                dev_acc[i // report_per] /= len(dev_data)\n",
    "                train_acc[i // report_per] /= len(train_data)\n",
    "\n",
    "            epoch_time = datetime.now() - start_time\n",
    "            print(f'Epoch {i + 1} complete in {str(epoch_time)};',\n",
    "                  f'est. finish at {str(start_time + (epoch_time / (i + 1) * epochs))}')\n",
    "            print(f'Validation: {train_acc[i // report_per]} train | {dev_acc[i // report_per]} dev')\n",
    "            clear_output(wait=True)\n",
    "\n",
    "    end_time = datetime.now()\n",
    "    print(f'Training completed in {str(end_time - start_time)}')\n",
    "    \n",
    "    return dev_acc, train_acc"
   ]
  },
  {
   "cell_type": "code",
   "execution_count": null,
   "metadata": {},
   "outputs": [],
   "source": [
    "def grid_search(lrs, batch_sizes, shuffles):\n",
    "    epochs, report_per, lr, batch_size, shuffle\n",
    "    dev_accs = dict()\n",
    "    train_accs = dict()\n",
    "    for lr in lrs:\n",
    "        for batch_size in batch_sizes:\n",
    "            for bool_shuffle in shuffles:\n",
    "                print(f'Training lr={lr}, batch size={batch_size}, shuffle={bool_shuffle}')\n",
    "                dev_acc, train_acc = train(200, 20, lr, batch_size, bool_shuffle)\n",
    "                dev_accs[lr] = "
   ]
  }
 ],
 "metadata": {
  "kernelspec": {
   "display_name": "Python 3",
   "language": "python",
   "name": "python3"
  },
  "language_info": {
   "codemirror_mode": {
    "name": "ipython",
    "version": 3
   },
   "file_extension": ".py",
   "mimetype": "text/x-python",
   "name": "python",
   "nbconvert_exporter": "python",
   "pygments_lexer": "ipython3",
   "version": "3.8.5"
  }
 },
 "nbformat": 4,
 "nbformat_minor": 4
}
