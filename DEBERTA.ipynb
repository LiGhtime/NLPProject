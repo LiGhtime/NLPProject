{
 "cells": [
  {
   "cell_type": "markdown",
   "metadata": {},
   "source": [
    "# NLP Final COPA Project: DEBERTA"
   ]
  },
  {
   "cell_type": "code",
   "execution_count": null,
   "metadata": {},
   "outputs": [],
   "source": [
    "import os\n",
    "import json\n",
    "import torch\n",
    "import transformers\n",
    "\n",
    "import numpy as np\n",
    "import pandas as pd\n",
    "import tensorflow as tf\n",
    "import matplotlib.pyplot as plt\n",
    "\n",
    "from DeBERTa import deberta\n",
    "from datetime import datetime\n",
    "from torch import nn, optim, cuda\n",
    "from datasets import load_dataset\n",
    "from torch.utils.data import Dataset, DataLoader\n",
    "from sklearn.model_selection import train_test_split\n",
    "from transformers import AdamW, DebertaV2Config, DebertaV2Tokenizer, DebertaV2Model, DebertaV2ForMaskedLM, DebertaV2ForSequenceClassification\n"
   ]
  },
  {
   "cell_type": "code",
   "execution_count": null,
   "metadata": {},
   "outputs": [],
   "source": [
    "os.environ['NUMEXPR_MAX_THREADS'] = '16'\n",
    "os.environ['NUMEXPR_NUM_THREADS'] = '12'"
   ]
  },
  {
   "cell_type": "code",
   "execution_count": null,
   "metadata": {},
   "outputs": [],
   "source": [
    "device = torch.device('cuda' if cuda.is_available() else 'cpu')"
   ]
  },
  {
   "cell_type": "code",
   "execution_count": null,
   "metadata": {},
   "outputs": [],
   "source": [
    "tokenizer = DebertaV2Tokenizer.from_pretrained('microsoft/deberta-v2-xlarge')\n",
    "model = DebertaV2ForSequenceClassification.from_pretrained('microsoft/deberta-v2-xlarge')"
   ]
  },
  {
   "cell_type": "code",
   "execution_count": null,
   "metadata": {},
   "outputs": [],
   "source": [
    "def padding(token_ids):\n",
    "    padding_token_ids = [0] * 20\n",
    "    padding_attention_mask = [0] * 20\n",
    "    \n",
    "    padding_token_ids[:len(token_ids)] = token_ids\n",
    "    padding_attention_mask[:len(token_ids)] = [1] * len(token_ids)\n",
    "    \n",
    "    return padding_token_ids, padding_attention_mask\n",
    "    "
   ]
  },
  {
   "cell_type": "code",
   "execution_count": null,
   "metadata": {},
   "outputs": [],
   "source": [
    "def data_process(tokenizer, premise, choice1, choice2, question, label, padding):\n",
    "    \n",
    "    token_ids_0 = tokenizer(premise)['input_ids']\n",
    "    token_ids_1 = tokenizer(choice1)['input_ids']\n",
    "    token_ids_2 = tokenizer(choice2)['input_ids']\n",
    "\n",
    "    padding_token_ids_0, padding_attention_mask_0 = padding(token_ids_0)\n",
    "    padding_token_ids_1, padding_attention_mask_1 = padding(token_ids_1)\n",
    "    padding_token_ids_2, padding_attention_mask_2 = padding(token_ids_2)\n",
    "\n",
    "    input_ids_1 = tokenizer.build_inputs_with_special_tokens(padding_token_ids_0, padding_token_ids_1)\n",
    "    input_ids_2 = tokenizer.build_inputs_with_special_tokens(padding_token_ids_0, padding_token_ids_2)\n",
    "    input_ids = torch.tensor([input_ids_1, input_ids_2]).to(device)\n",
    "\n",
    "    token_type_ids_1 = tokenizer.create_token_type_ids_from_sequences(padding_token_ids_0, padding_token_ids_1)\n",
    "    token_type_ids_2 = tokenizer.create_token_type_ids_from_sequences(padding_token_ids_0, padding_token_ids_2)\n",
    "    token_type_ids = torch.tensor([token_type_ids_1, token_type_ids_2]).to(device)\n",
    "\n",
    "    attention_mask_1 = [1] + padding_attention_mask_0 + [1] + padding_attention_mask_1 + [1]\n",
    "    attention_mask_2 = [1] + padding_attention_mask_0 + [1] + padding_attention_mask_2 + [1]\n",
    "    attention_mask = torch.tensor([attention_mask_1, attention_mask_2]).to(device)\n",
    "\n",
    "    if question == 'effect':\n",
    "        if label == 1:\n",
    "            labels = [0, 1]\n",
    "        else:\n",
    "            labels = [1, 0]\n",
    "    elif question == 'cause':\n",
    "        if label == 1:\n",
    "            labels = [1, 0]\n",
    "        else:\n",
    "            labels = [0, 1]        \n",
    "        \n",
    "    labels = torch.tensor(labels).to(device)\n",
    "    \n",
    "    return input_ids, token_type_ids, attention_mask, labels\n"
   ]
  },
  {
   "cell_type": "code",
   "execution_count": null,
   "metadata": {},
   "outputs": [],
   "source": [
    "def training_model(filename, tokenizer, model, epochs, padding):\n",
    "    model.to(device)\n",
    "    model.train()\n",
    "    \n",
    "    optim = AdamW(model.parameters(), lr=5e-5)\n",
    "    \n",
    "    with open(filename, 'r', encoding='utf8') as file:\n",
    "        raw_data = pd.read_json(file, lines=True)\n",
    "    \n",
    "    for i in range(epochs):\n",
    "        print('Epochs:', i + 1)\n",
    "        print('Training...')\n",
    "        \n",
    "        for index, row in raw_data.iterrows():\n",
    "            optim.zero_grad()\n",
    "            premise = row['premise']\n",
    "            choice1 = row['choice1']\n",
    "            choice2 = row['choice2']\n",
    "            question = row['question']\n",
    "            label = row['label']\n",
    "\n",
    "            input_ids, token_type_ids, attention_mask, labels = data_process(tokenizer, premise, choice1, choice2, question, label, padding)\n",
    "            outputs = model(input_ids=input_ids, attention_mask=attention_mask, token_type_ids=token_type_ids, labels=labels)\n",
    "            loss = outputs['loss']\n",
    "            loss.backward()\n",
    "            optim.step()\n",
    "               \n",
    "        print('Finsh')\n"
   ]
  },
  {
   "cell_type": "code",
   "execution_count": null,
   "metadata": {},
   "outputs": [],
   "source": [
    "training_model(\"train.jsonl\", tokenizer, model, 1, padding)"
   ]
  },
  {
   "cell_type": "code",
   "execution_count": null,
   "metadata": {},
   "outputs": [],
   "source": [
    "def evaluating_model(filename, tokenizer, model, padding):\n",
    "    model.eval()\n",
    "    \n",
    "    total_num = 0\n",
    "    correct_num = 0\n",
    "    \n",
    "    with open(filename, 'r', encoding='utf8') as file:\n",
    "        raw_data = pd.read_json(file, lines=True)\n",
    "    \n",
    "    for index, row in raw_data.iterrows():\n",
    "        total_num = total_num + 1\n",
    "        \n",
    "        premise = row[\"premise\"]\n",
    "        choice1 = row[\"choice1\"]\n",
    "        choice2 = row[\"choice2\"]\n",
    "        question = row[\"question\"]\n",
    "        label = row[\"label\"]\n",
    "\n",
    "        input_ids, token_type_ids, attention_mask, labels = data_process(tokenizer, premise, choice1, choice2, question, label, padding)\n",
    "        output = model.forward(input_ids=input_ids, attention_mask=attention_mask, token_type_ids=token_type_ids, labels=labels)\n",
    "        softmax = nn.Softmax(dim=1)\n",
    "        logits = softmax(output[\"logits\"]).tolist()\n",
    "\n",
    "        score_0 = (logits[0][0] + logits[1][0]) / 2\n",
    "        score_1 = (logits[0][1] + logits[1][1]) / 2\n",
    "        if score_0 > score_1:\n",
    "            result = [1, 0] \n",
    "        else: \n",
    "            result = [0, 1]\n",
    "\n",
    "        if result == labels.tolist():\n",
    "            correct_num = correct_num + 1\n",
    "            \n",
    "    accuarcy = correct_num / total_num\n",
    "                \n",
    "    return accuarcy\n"
   ]
  },
  {
   "cell_type": "code",
   "execution_count": null,
   "metadata": {},
   "outputs": [],
   "source": [
    "accuarcy = evaluating_model(\"test.jsonl\", tokenizer, model, padding)"
   ]
  },
  {
   "cell_type": "code",
   "execution_count": null,
   "metadata": {},
   "outputs": [],
   "source": [
    "accuarcy"
   ]
  },
  {
   "cell_type": "markdown",
   "metadata": {},
   "source": [
    "### Example"
   ]
  },
  {
   "cell_type": "code",
   "execution_count": null,
   "metadata": {},
   "outputs": [],
   "source": [
    "model.train()\n",
    "\n",
    "token_ids_0 = tokenizer(\"The man turned on the faucet.\")['input_ids']\n",
    "token_ids_1 = tokenizer(\"The toilet filled with water.\")['input_ids']\n",
    "token_ids_2 = tokenizer(\"Water flowed from the spout.\")['input_ids']\n",
    "\n",
    "padding_token_ids_0, padding_attention_mask_0 = padding(token_ids_0)\n",
    "padding_token_ids_1, padding_attention_mask_1 = padding(token_ids_1)\n",
    "padding_token_ids_2, padding_attention_mask_2 = padding(token_ids_2)\n",
    "\n",
    "input_ids_1 = tokenizer.build_inputs_with_special_tokens(padding_token_ids_0, padding_token_ids_1)\n",
    "input_ids_2 = tokenizer.build_inputs_with_special_tokens(padding_token_ids_0, padding_token_ids_2)\n",
    "input_ids = torch.tensor([input_ids_1, input_ids_2]).to(device)\n",
    "\n",
    "token_type_ids_1 = tokenizer.create_token_type_ids_from_sequences(padding_token_ids_0, padding_token_ids_1)\n",
    "token_type_ids_2 = tokenizer.create_token_type_ids_from_sequences(padding_token_ids_0, padding_token_ids_2)\n",
    "token_type_ids = torch.tensor([token_type_ids_1, token_type_ids_2]).to(device)\n",
    "\n",
    "attention_mask_1 = [1] + padding_attention_mask_0 + [1] + padding_attention_mask_1 + [1]\n",
    "attention_mask_2 = [1] + padding_attention_mask_0 + [1] + padding_attention_mask_2 + [1]\n",
    "attention_mask = torch.tensor([attention_mask_1, attention_mask_2]).to(device)\n",
    "\n",
    "labels=torch.tensor([1, 0]).to(device)\n",
    "\n",
    "outputs = model.forward(input_ids=input_ids, attention_mask=attention_mask, token_type_ids=token_type_ids, labels=labels)\n",
    "\n",
    "outputs"
   ]
  },
  {
   "cell_type": "code",
   "execution_count": null,
   "metadata": {},
   "outputs": [],
   "source": [
    "model.eval()\n",
    "\n",
    "token_ids_0 = tokenizer(\"The runner wore shorts.\")['input_ids']\n",
    "token_ids_1 = tokenizer(\"The forecast predicted high temperatures.\")['input_ids']\n",
    "token_ids_2 = tokenizer(\"She planned to run along the beach.\")['input_ids']\n",
    "question = \"cause\"\n",
    "label = 0\n",
    "\n",
    "padding_token_ids_0, padding_attention_mask_0 = padding(token_ids_0)\n",
    "padding_token_ids_1, padding_attention_mask_1 = padding(token_ids_1)\n",
    "padding_token_ids_2, padding_attention_mask_2 = padding(token_ids_2)\n",
    "\n",
    "input_ids_1 = tokenizer.build_inputs_with_special_tokens(padding_token_ids_0, padding_token_ids_1)\n",
    "input_ids_2 = tokenizer.build_inputs_with_special_tokens(padding_token_ids_0, padding_token_ids_2)\n",
    "input_ids = torch.tensor([input_ids_1, input_ids_2])\n",
    "\n",
    "token_type_ids_1 = tokenizer.create_token_type_ids_from_sequences(padding_token_ids_0, padding_token_ids_1)\n",
    "token_type_ids_2 = tokenizer.create_token_type_ids_from_sequences(padding_token_ids_0, padding_token_ids_2)\n",
    "token_type_ids = torch.tensor([token_type_ids_1, token_type_ids_2])\n",
    "\n",
    "attention_mask_1 = [1] + padding_attention_mask_0 + [1] + padding_attention_mask_1 + [1]\n",
    "attention_mask_2 = [1] + padding_attention_mask_0 + [1] + padding_attention_mask_2 + [1]\n",
    "attention_mask = torch.tensor([attention_mask_1, attention_mask_2])\n",
    "\n",
    "#labels = torch.tensor([[1] * input_ids.size(1), [0] * input_ids.size(1)])\n",
    "if question == \"effect\":\n",
    "    if label == 1:\n",
    "        labels = [0, 1]\n",
    "    else:\n",
    "        labels = [1, 0]\n",
    "elif question == \"cause\":\n",
    "    if label == 1:\n",
    "        labels = [1, 0]\n",
    "    else:\n",
    "        labels = [0, 1]   \n",
    "\n",
    "labels = torch.tensor(labels)\n",
    "\n",
    "output = model(input_ids=input_ids, attention_mask=attention_mask, token_type_ids=token_type_ids, labels=labels)\n",
    "\n",
    "softmax = nn.Softmax(dim=1)\n",
    "logits = softmax(output[\"logits\"]).tolist()\n",
    "\n",
    "score_0 = (logits[0][0] + logits[1][0]) / 2\n",
    "score_1 = (logits[0][1] + logits[1][1]) / 2\n",
    "if score_0 > score_1:\n",
    "    result = [1, 0] \n",
    "else: \n",
    "    result = [0, 1]\n",
    "    \n",
    "result"
   ]
  }
 ],
 "metadata": {
  "kernelspec": {
   "display_name": "Python 3",
   "language": "python",
   "name": "python3"
  },
  "language_info": {
   "codemirror_mode": {
    "name": "ipython",
    "version": 3
   },
   "file_extension": ".py",
   "mimetype": "text/x-python",
   "name": "python",
   "nbconvert_exporter": "python",
   "pygments_lexer": "ipython3",
   "version": "3.8.3"
  }
 },
 "nbformat": 4,
 "nbformat_minor": 4
}
